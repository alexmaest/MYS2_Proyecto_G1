{
 "cells": [
  {
   "cell_type": "markdown",
   "metadata": {},
   "source": [
    "![Net Image](https://www.lynchburg.edu/wp-content/uploads/statistics-and-data-science/banner-statistics-and-data-science-1.jpg \"Banner | Proyecto 1\")\n",
    "\n",
    "## Análisis de datos | Proyecto Fase 1 <img src=\"https://media.tenor.com/dHk-LfzHrtwAAAAi/linux-computer.gif\" alt=\"drawing\" width=\"30\"/>"
   ]
  },
  {
   "cell_type": "markdown",
   "metadata": {},
   "source": [
    "### Integrantes | Grupo 1"
   ]
  },
  {
   "cell_type": "markdown",
   "metadata": {},
   "source": [
    "| Carnet     | Nombre                        |\n",
    "|-----------|-------------------------------|\n",
    "| 201800476 | Marvin Alexis Estrada Florian |\n",
    "| 201480017 | Erick Javier Bernal Orellana  |\n",
    "| 201403517 | Luis Roberto Boror Yoc        |\n",
    "| 201700898 | Pablo José Oliva Bonilla      |"
   ]
  },
  {
   "cell_type": "markdown",
   "metadata": {},
   "source": [
    "### Carga de datos"
   ]
  },
  {
   "cell_type": "code",
   "execution_count": 1,
   "metadata": {},
   "outputs": [
    {
     "name": "stdout",
     "output_type": "stream",
     "text": [
      "           ArrivalDate  OrderPrepTime  ProteinsTime  ToppingsTime  \\\n",
      "0      12/7/2023 10:05           16.5          12.3          15.3   \n",
      "1      12/7/2023 10:08           15.6          13.1          15.1   \n",
      "2      12/7/2023 10:10           23.0          13.1           8.5   \n",
      "3      12/7/2023 10:09           32.4          19.8          39.4   \n",
      "4      12/7/2023 10:22           41.3          23.0          23.1   \n",
      "...                ...            ...           ...           ...   \n",
      "16029   1/5/2024 21:53           36.3          23.7          47.4   \n",
      "16030   1/5/2024 21:58           29.2          25.2          30.4   \n",
      "16031   1/5/2024 21:53           35.2          29.7          33.4   \n",
      "16032   1/5/2024 21:58           32.9          23.6          38.6   \n",
      "16033   1/5/2024 21:58           34.6          18.9          21.5   \n",
      "\n",
      "       PackagingTime  PayTime  DiningRoomTime OrderType OrderModality  \\\n",
      "0               27.2      0.0            0.00   Burrito        Online   \n",
      "1               34.3      0.0            0.00     Tacos        Online   \n",
      "2               29.9      0.0            0.00     Tacos        Online   \n",
      "3               38.6     58.1            0.00      Bowl      InPerson   \n",
      "4               23.6     64.4           14.80      Bowl      InPerson   \n",
      "...              ...      ...             ...       ...           ...   \n",
      "16029           34.4     63.6           16.82      Bowl      InPerson   \n",
      "16030           30.2     54.7           11.30   Burrito      InPerson   \n",
      "16031           30.6     47.4           19.13   Burrito      InPerson   \n",
      "16032           24.0     62.9           15.29     Salad      InPerson   \n",
      "16033           31.3     60.8           21.38     Tacos      InPerson   \n",
      "\n",
      "           PromiseTime  \n",
      "0      12/7/2023 10:20  \n",
      "1      12/7/2023 10:23  \n",
      "2      12/7/2023 10:25  \n",
      "3                  NaN  \n",
      "4                  NaN  \n",
      "...                ...  \n",
      "16029              NaN  \n",
      "16030              NaN  \n",
      "16031              NaN  \n",
      "16032              NaN  \n",
      "16033              NaN  \n",
      "\n",
      "[16034 rows x 10 columns]\n"
     ]
    }
   ],
   "source": [
    "import pandas as pd\n",
    "from statistics import mode\n",
    "\n",
    "df = pd.read_csv('SimioFreshMexDataset.csv')\n",
    "print(df)"
   ]
  },
  {
   "cell_type": "markdown",
   "metadata": {},
   "source": [
    "### Limpieza de datos"
   ]
  },
  {
   "cell_type": "code",
   "execution_count": 2,
   "metadata": {},
   "outputs": [
    {
     "name": "stdout",
     "output_type": "stream",
     "text": [
      "           ArrivalDate  OrderPrepTime  ProteinsTime  ToppingsTime  \\\n",
      "0      12/7/2023 10:05           16.5          12.3          15.3   \n",
      "1      12/7/2023 10:08           15.6          13.1          15.1   \n",
      "2      12/7/2023 10:10           23.0          13.1           8.5   \n",
      "3      12/7/2023 10:09           32.4          19.8          39.4   \n",
      "4      12/7/2023 10:22           41.3          23.0          23.1   \n",
      "...                ...            ...           ...           ...   \n",
      "16029   1/5/2024 21:53           36.3          23.7          47.4   \n",
      "16030   1/5/2024 21:58           29.2          25.2          30.4   \n",
      "16031   1/5/2024 21:53           35.2          29.7          33.4   \n",
      "16032   1/5/2024 21:58           32.9          23.6          38.6   \n",
      "16033   1/5/2024 21:58           34.6          18.9          21.5   \n",
      "\n",
      "       PackagingTime  PayTime  DiningRoomTime OrderType OrderModality  \\\n",
      "0               27.2      0.0            0.00   Burrito        Online   \n",
      "1               34.3      0.0            0.00     Tacos        Online   \n",
      "2               29.9      0.0            0.00     Tacos        Online   \n",
      "3               38.6     58.1            0.00      Bowl      InPerson   \n",
      "4               23.6     64.4           14.80      Bowl      InPerson   \n",
      "...              ...      ...             ...       ...           ...   \n",
      "16029           34.4     63.6           16.82      Bowl      InPerson   \n",
      "16030           30.2     54.7           11.30   Burrito      InPerson   \n",
      "16031           30.6     47.4           19.13   Burrito      InPerson   \n",
      "16032           24.0     62.9           15.29     Salad      InPerson   \n",
      "16033           31.3     60.8           21.38     Tacos      InPerson   \n",
      "\n",
      "           PromiseTime  \n",
      "0      12/7/2023 10:20  \n",
      "1      12/7/2023 10:23  \n",
      "2      12/7/2023 10:25  \n",
      "3                  NaN  \n",
      "4                  NaN  \n",
      "...                ...  \n",
      "16029              NaN  \n",
      "16030              NaN  \n",
      "16031              NaN  \n",
      "16032              NaN  \n",
      "16033              NaN  \n",
      "\n",
      "[16034 rows x 10 columns]\n"
     ]
    }
   ],
   "source": [
    "df = df.drop_duplicates()\n",
    "print(df)"
   ]
  },
  {
   "cell_type": "markdown",
   "metadata": {},
   "source": [
    "### Descripción de variables"
   ]
  },
  {
   "cell_type": "code",
   "execution_count": 3,
   "metadata": {},
   "outputs": [
    {
     "name": "stdout",
     "output_type": "stream",
     "text": [
      "       ArrivalDate  OrderPrepTime  ProteinsTime  ToppingsTime  PackagingTime  \\\n",
      "0  12/7/2023 10:05           16.5          12.3          15.3           27.2   \n",
      "1  12/7/2023 10:08           15.6          13.1          15.1           34.3   \n",
      "2  12/7/2023 10:10           23.0          13.1           8.5           29.9   \n",
      "3  12/7/2023 10:09           32.4          19.8          39.4           38.6   \n",
      "4  12/7/2023 10:22           41.3          23.0          23.1           23.6   \n",
      "\n",
      "   PayTime  DiningRoomTime OrderType OrderModality      PromiseTime  \n",
      "0      0.0             0.0   Burrito        Online  12/7/2023 10:20  \n",
      "1      0.0             0.0     Tacos        Online  12/7/2023 10:23  \n",
      "2      0.0             0.0     Tacos        Online  12/7/2023 10:25  \n",
      "3     58.1             0.0      Bowl      InPerson              NaN  \n",
      "4     64.4            14.8      Bowl      InPerson              NaN  \n"
     ]
    }
   ],
   "source": [
    "print(df.head())"
   ]
  },
  {
   "cell_type": "code",
   "execution_count": 4,
   "metadata": {},
   "outputs": [
    {
     "name": "stdout",
     "output_type": "stream",
     "text": [
      "<class 'pandas.core.frame.DataFrame'>\n",
      "RangeIndex: 16034 entries, 0 to 16033\n",
      "Data columns (total 10 columns):\n",
      " #   Column          Non-Null Count  Dtype  \n",
      "---  ------          --------------  -----  \n",
      " 0   ArrivalDate     16034 non-null  object \n",
      " 1   OrderPrepTime   16034 non-null  float64\n",
      " 2   ProteinsTime    16034 non-null  float64\n",
      " 3   ToppingsTime    16034 non-null  float64\n",
      " 4   PackagingTime   16034 non-null  float64\n",
      " 5   PayTime         16034 non-null  float64\n",
      " 6   DiningRoomTime  16034 non-null  float64\n",
      " 7   OrderType       16034 non-null  object \n",
      " 8   OrderModality   16034 non-null  object \n",
      " 9   PromiseTime     3728 non-null   object \n",
      "dtypes: float64(6), object(4)\n",
      "memory usage: 1.2+ MB\n",
      "None\n"
     ]
    }
   ],
   "source": [
    "print(df.info())"
   ]
  },
  {
   "cell_type": "code",
   "execution_count": 5,
   "metadata": {},
   "outputs": [
    {
     "name": "stdout",
     "output_type": "stream",
     "text": [
      "       OrderPrepTime  ProteinsTime  ToppingsTime  PackagingTime       PayTime  \\\n",
      "count   16034.000000  16034.000000  16034.000000   16034.000000  16034.000000   \n",
      "mean       29.491743     20.594499     27.432699      30.031358     44.148410   \n",
      "std         8.504381      5.827847     10.104568       7.349956     19.195186   \n",
      "min        10.000000      5.200000      5.000000      15.100000      0.000000   \n",
      "25%        23.200000     17.300000     18.800000      24.400000     37.900000   \n",
      "50%        31.400000     22.200000     28.500000      29.100000     47.000000   \n",
      "75%        36.000000     25.000000     34.900000      35.200000     56.600000   \n",
      "max        44.900000     29.900000     49.700000      49.800000     79.500000   \n",
      "\n",
      "       DiningRoomTime  \n",
      "count    16034.000000  \n",
      "mean        11.035630  \n",
      "std          8.925642  \n",
      "min          0.000000  \n",
      "25%          0.000000  \n",
      "50%         12.890000  \n",
      "75%         18.127500  \n",
      "max         29.830000  \n"
     ]
    }
   ],
   "source": [
    "print(df.describe())"
   ]
  },
  {
   "cell_type": "markdown",
   "metadata": {},
   "source": [
    "### Medidas para el análisis"
   ]
  },
  {
   "cell_type": "code",
   "execution_count": 16,
   "metadata": {},
   "outputs": [
    {
     "name": "stdout",
     "output_type": "stream",
     "text": [
      "Máximo número de pedidos en un día: 6\n",
      "Mínimo número de pedidos en un día: 1\n",
      "Media de pedidos en un día: 1.4753404490246596\n",
      "Moda del producto más pedido: Bowl\n",
      "Moda del tipo de pedido: InPerson\n",
      "Mínimo del tiempo en preparación: 10.0 segundos\n",
      "Mínimo del tiempo en proteinas: 5.2 segundos\n",
      "Mínimo del tiempo en complementos: 5.0 segundos\n",
      "Media del tiempo empaquetando: 30.03135836347761 segundos\n",
      "Media del tiempo pagando: 49.92774721399351 segundos\n",
      "Media del tiempo que pasan los clientes en restaurante comiendo: 16.6976776446164 minutos\n",
      "Media de espera del cliente en el proceso general: 151.69870899338906 segundos\n",
      "Porcentaje de pedidos Online: 23.250592490956716\n",
      "Porcentaje de pedidos InPerson: 76.7494075090433\n",
      "Media del tiempo de espera en el proceso con pedido en línea: 96.72076180257511 segundos\n",
      "Media del tiempo de espera en el proceso con pedido presencial: 168.35381927515033 segundos\n",
      "Mínimo de tiempo de preparación para cada tipo de producto en segundos:\n",
      "OrderType\n",
      "Bowl       35.7\n",
      "Burrito    36.0\n",
      "Salad      37.1\n",
      "Tacos      35.5\n",
      "dtype: float64\n"
     ]
    }
   ],
   "source": [
    "# Convertir ArrivalDate a tipo datetime\n",
    "df['ArrivalDate'] = pd.to_datetime(df['ArrivalDate'])\n",
    "\n",
    "# Medidas\n",
    "\n",
    "# Máximo número de pedidos en un día\n",
    "max_orders_per_day = df['ArrivalDate'].value_counts().max()\n",
    "\n",
    "# Mínimo número de pedidos en un día\n",
    "min_orders_per_day = df['ArrivalDate'].value_counts().min()\n",
    "\n",
    "# Media de pedidos en un día\n",
    "mean_orders_per_day = df['ArrivalDate'].value_counts().mean()\n",
    "\n",
    "# Moda del producto más pedido\n",
    "mode_order_type = mode(df['OrderType'])\n",
    "\n",
    "# Mínimo del tiempo de preparación\n",
    "min_prep_time = df['OrderPrepTime'].min()\n",
    "\n",
    "# Mínimo del tiempo de proteinas\n",
    "min_proteins_time = df['ProteinsTime'].min()\n",
    "\n",
    "# Mínimo del tiempo de complementos\n",
    "min_toppings_time = df['ToppingsTime'].min()\n",
    "\n",
    "# Media del tiempo empacando\n",
    "mean_packaging_time = df['PackagingTime'].mean()\n",
    "\n",
    "# Media del tiempo pagando sin tomar en cuenta los pedidos en línea\n",
    "mean_pay_time = df[df['PayTime'] != 0.0]['PayTime'].mean()\n",
    "\n",
    "# Media del tiempo comiendo en el restaurante sin tomar en cuenta los pedidos en línea\n",
    "mean_dining_time = df[df['DiningRoomTime'] != 0.0]['DiningRoomTime'].mean()\n",
    "\n",
    "# Moda de modalidad del pedido\n",
    "mode_order_modality = mode(df['OrderModality'])\n",
    "\n",
    "# Media de espera del cliente en el proceso general\n",
    "df['TotalWaitTime'] = df['OrderPrepTime'] + df['ProteinsTime'] + df['ToppingsTime'] + df['PackagingTime'] + df['PayTime']\n",
    "mean_total_wait_time = df['TotalWaitTime'].mean()\n",
    "\n",
    "# Porcentajes de pedidos en línea y pedidos presenciales\n",
    "order_modality_counts = df['OrderModality'].value_counts(normalize=True) * 100\n",
    "percentage_online_orders = order_modality_counts['Online']\n",
    "percentage_inperson_orders = order_modality_counts['InPerson']\n",
    "\n",
    "# Media del tiempo de espera por tipo de pedido si es en línea o pedidos presenciales\n",
    "df['TotalWaitTimeByModality'] = df[['OrderPrepTime', 'ProteinsTime', 'ToppingsTime', 'PackagingTime', 'PayTime']].sum(axis=1)\n",
    "mean_wait_time_online = df[df['OrderModality'] == 'Online']['TotalWaitTimeByModality'].mean()\n",
    "mean_wait_time_inperson = df[df['OrderModality'] == 'InPerson']['TotalWaitTimeByModality'].mean()\n",
    "\n",
    "# Mínimo de tiempo de preparación para cada tipo de producto\n",
    "min_prep_time_by_type = df.groupby('OrderType')[['OrderPrepTime', 'ProteinsTime', 'ToppingsTime', 'PackagingTime']].min().sum(axis=1)\n",
    "\n",
    "print(\"Máximo número de pedidos en un día:\", max_orders_per_day)\n",
    "print(\"Mínimo número de pedidos en un día:\", min_orders_per_day)\n",
    "print(\"Media de pedidos en un día:\", mean_orders_per_day)\n",
    "print(\"Moda del producto más pedido:\", mode_order_type)\n",
    "print(\"Moda del tipo de pedido:\", mode_order_modality)\n",
    "print(\"Mínimo del tiempo en preparación:\", min_prep_time, \"segundos\")\n",
    "print(\"Mínimo del tiempo en proteinas:\", min_proteins_time, \"segundos\")\n",
    "print(\"Mínimo del tiempo en complementos:\", min_toppings_time, \"segundos\")\n",
    "print(\"Media del tiempo empaquetando:\", mean_packaging_time, \"segundos\")\n",
    "print(\"Media del tiempo pagando:\", mean_pay_time, \"segundos\")\n",
    "print(\"Media del tiempo que pasan los clientes en restaurante comiendo:\", mean_dining_time, \"minutos\")\n",
    "print(\"Media de espera del cliente en el proceso general:\", mean_total_wait_time, \"segundos\")\n",
    "print(\"Porcentaje de pedidos Online:\", percentage_online_orders)\n",
    "print(\"Porcentaje de pedidos InPerson:\", percentage_inperson_orders)\n",
    "print(\"Media del tiempo de espera en el proceso con pedido en línea:\", mean_wait_time_online, \"segundos\")\n",
    "print(\"Media del tiempo de espera en el proceso con pedido presencial:\", mean_wait_time_inperson, \"segundos\")\n",
    "print(\"Mínimo de tiempo de preparación para cada tipo de producto en segundos:\")\n",
    "print(min_prep_time_by_type)"
   ]
  }
 ],
 "metadata": {
  "kernelspec": {
   "display_name": "Python 3",
   "language": "python",
   "name": "python3"
  },
  "language_info": {
   "codemirror_mode": {
    "name": "ipython",
    "version": 3
   },
   "file_extension": ".py",
   "mimetype": "text/x-python",
   "name": "python",
   "nbconvert_exporter": "python",
   "pygments_lexer": "ipython3",
   "version": "3.12.0"
  }
 },
 "nbformat": 4,
 "nbformat_minor": 2
}
